{
 "cells": [
  {
   "cell_type": "code",
   "execution_count": 1,
   "id": "a53a29e0-3845-43ba-ac9d-b91a2bb41f28",
   "metadata": {},
   "outputs": [],
   "source": [
    "import numpy as np\n",
    "import pandas as pd\n",
    "import pyaudio\n",
    "import wave\n",
    "import librosa\n",
    "from scipy.io.wavfile import write\n",
    "from keras.models import model_from_json"
   ]
  },
  {
   "cell_type": "markdown",
   "id": "66949a30-61a1-4e40-b025-5d263b4470ce",
   "metadata": {},
   "source": [
    "### Define function to record audio"
   ]
  },
  {
   "cell_type": "code",
   "execution_count": 2,
   "id": "749edbe0-1f2d-42bd-a026-9a25f663228b",
   "metadata": {},
   "outputs": [],
   "source": [
    "# Define constants for audio recording\n",
    "format = pyaudio.paInt16\n",
    "channels = 1\n",
    "filename = \"test/output.wav\"\n",
    "duration=5\n",
    "sample_rate=44100\n",
    "chunk_size=1024\n",
    "duration=5\n",
    "\n",
    "# Function to record audio\n",
    "def record_audio():\n",
    "    audio = pyaudio.PyAudio()\n",
    "    stream = audio.open(format=format, channels=channels,\n",
    "                        rate=sample_rate, input=True,\n",
    "                        frames_per_buffer=chunk_size)\n",
    "    print(\"Recording...\")\n",
    "    frames = []\n",
    "\n",
    "    # Calculate total number of chunks\n",
    "    total_chunks = int(sample_rate / chunk_size * duration)\n",
    "    chunks_per_marker = total_chunks // 10  # Number of chunks for each '#' character\n",
    "    \n",
    "    for i in range(total_chunks):\n",
    "        data = stream.read(chunk_size)\n",
    "        frames.append(data)\n",
    "        percentage = int((i + 1) / total_chunks * 100)\n",
    "        if (i + 1) % chunks_per_marker == 0:\n",
    "            print(f\" -- {percentage}%\", end='', flush=True)  # Print '#' without newline and flush buffer\n",
    "    \n",
    "    print(\"\\nFinished recording.\")\n",
    "    \n",
    "    stream.stop_stream()\n",
    "    stream.close()\n",
    "    audio.terminate()\n",
    "    \n",
    "    wavefile = wave.open(filename, 'wb')\n",
    "    wavefile.setnchannels(channels)\n",
    "    wavefile.setsampwidth(audio.get_sample_size(format))\n",
    "    wavefile.setframerate(sample_rate)\n",
    "    wavefile.writeframes(b''.join(frames))\n",
    "    wavefile.close()"
   ]
  },
  {
   "cell_type": "markdown",
   "id": "4f4e7005-86d6-4267-810a-3e0eced48ed4",
   "metadata": {},
   "source": [
    "### Define function to preprocess audio"
   ]
  },
  {
   "cell_type": "code",
   "execution_count": 13,
   "id": "9fdba425-52e5-4125-bc60-8957efa9e892",
   "metadata": {},
   "outputs": [],
   "source": [
    "#sample feature\n",
    "#librosa.core.load(path, sr=22050, mono=True, offset=0.0, duration=None, dtype=<class 'numpy.float32'>, res_type='kaiser_best')\n",
    "\n",
    "#Mfcc\n",
    "#librosa.feature.mfcc(y=None, sr=22050, S=None, n_mfcc=20, dct_type=2, norm='ortho', lifter=0, **kwargs)\n",
    "mfcc_sample_rate = 22050\n",
    "n_mfcc = 40\n",
    "axis_mfcc = 1\n",
    "\n",
    "# Function to preprocess audio\n",
    "\n",
    "def preprocess_audio(filename, sample_rate=22050, n_mfcc=40,offset_s = 0.5):\n",
    "    # Load audio file\n",
    "    y, sr = librosa.load(filename, sr=sample_rate, mono=True,offset=offset_s)\n",
    "    \n",
    "    # Extract MFCC features\n",
    "    mfccs = librosa.feature.mfcc(y=y, sr=sr, n_mfcc=n_mfcc)\n",
    "    \n",
    "    # Calculate mean of MFCCs\n",
    "    mfccs_mean = np.mean(mfccs, axis=1)\n",
    "    \n",
    "    return mfccs_mean"
   ]
  },
  {
   "cell_type": "markdown",
   "id": "fcf6a3ea-8a4f-4d9f-970e-d4975b335b0e",
   "metadata": {},
   "source": [
    "### Load Model"
   ]
  },
  {
   "cell_type": "code",
   "execution_count": 14,
   "id": "9ad07588-7b5f-4b6d-8c74-718c1fde46bc",
   "metadata": {},
   "outputs": [],
   "source": [
    "# Load the saved model\n",
    "def load_model(model_json_path, model_weights_path):\n",
    "    json_file = open(model_json_path, 'r')\n",
    "    loaded_model_json = json_file.read()\n",
    "    json_file.close()\n",
    "    loaded_model = model_from_json(loaded_model_json)\n",
    "    loaded_model.load_weights(model_weights_path)\n",
    "    print(\"Loaded model from disk\")\n",
    "    return loaded_model"
   ]
  },
  {
   "cell_type": "code",
   "execution_count": null,
   "id": "74f0b5d0-dfae-4f4c-b5a2-be1833a3e26c",
   "metadata": {},
   "outputs": [],
   "source": []
  },
  {
   "cell_type": "code",
   "execution_count": 15,
   "id": "3ee389bd-0b97-46c3-8c7c-1e37f5b68cd9",
   "metadata": {},
   "outputs": [],
   "source": [
    "# Define paths\n",
    "model_json_path = 'models/new_model.json'\n",
    "model_weights_path = 'models/new_model.h5'"
   ]
  },
  {
   "cell_type": "code",
   "execution_count": 11,
   "id": "4a10c84a-f3db-4b58-afa3-e220f5677b86",
   "metadata": {},
   "outputs": [
    {
     "name": "stdout",
     "output_type": "stream",
     "text": [
      "Recording...\n",
      " -- 9% -- 19% -- 29% -- 39% -- 48% -- 58% -- 68% -- 78% -- 87% -- 97%\n",
      "Finished recording.\n"
     ]
    }
   ],
   "source": [
    "# Record audio\n",
    "#record_audio()"
   ]
  },
  {
   "cell_type": "code",
   "execution_count": 38,
   "id": "1a8c6171-827c-4920-9e1c-bbf1b3506379",
   "metadata": {},
   "outputs": [],
   "source": [
    "# Preprocess audio\n",
    "filename = \"test/happy.wav\"\n",
    "processed_audio = preprocess_audio(filename)"
   ]
  },
  {
   "cell_type": "code",
   "execution_count": 39,
   "id": "641dfd48-fd0d-4289-aa33-db88dbd5426d",
   "metadata": {},
   "outputs": [
    {
     "data": {
      "text/plain": [
       "(40,)"
      ]
     },
     "execution_count": 39,
     "metadata": {},
     "output_type": "execute_result"
    }
   ],
   "source": [
    "processed_audio.shape"
   ]
  },
  {
   "cell_type": "raw",
   "id": "83aae671-c7b9-4a76-a236-91938af8a84b",
   "metadata": {},
   "source": [
    "ravdess = pd.DataFrame(columns=['feature'])\n",
    "ravdess.loc[0] = [processed_audio]"
   ]
  },
  {
   "cell_type": "code",
   "execution_count": null,
   "id": "b9170ad8-2c7f-4da5-ad05-5295e1614112",
   "metadata": {},
   "outputs": [],
   "source": []
  },
  {
   "cell_type": "raw",
   "id": "cc5e574d-e950-4f06-8a31-50113c4d965f",
   "metadata": {},
   "source": [
    "#Turn array into dataframe\n",
    "input_audio = pd.DataFrame(ravdess['feature'].values.tolist())"
   ]
  },
  {
   "cell_type": "raw",
   "id": "d2c2c2f6-2dac-4cfc-adde-a5548ee714b2",
   "metadata": {},
   "source": [
    "input_audio"
   ]
  },
  {
   "cell_type": "raw",
   "id": "443dd595-4425-4704-84c0-2a0a8cca365c",
   "metadata": {},
   "source": [
    "input_audio.shape"
   ]
  },
  {
   "cell_type": "code",
   "execution_count": 40,
   "id": "ca16755f-e633-4d6b-b7af-4cca43e7b410",
   "metadata": {},
   "outputs": [
    {
     "name": "stdout",
     "output_type": "stream",
     "text": [
      "Loaded model from disk\n"
     ]
    }
   ],
   "source": [
    "# Load the model\n",
    "model = load_model(model_json_path, model_weights_path)"
   ]
  },
  {
   "cell_type": "raw",
   "id": "2cd47c0e-e310-4a0f-8f6a-e47c665d09b4",
   "metadata": {},
   "source": [
    "# Reshape audio for CNN input\n",
    "processed_audio_reshaped = np.expand_dims(input_audio, axis=2)\n",
    "\n",
    "# Scale audio manually (optional, depending on model requirements)\n",
    "# For example, if the model expects inputs to be in the range [-1, 1]:\n",
    "#processed_audio_scaled = processed_audio_reshaped / np.max(np.abs(processed_audio_reshaped))"
   ]
  },
  {
   "cell_type": "code",
   "execution_count": 41,
   "id": "7b54e51e-121b-4cd4-bcfd-9ce06a8b220b",
   "metadata": {},
   "outputs": [],
   "source": [
    "x = np.expand_dims(processed_audio, axis=1)\n",
    "x = np.expand_dims(x, axis=0)"
   ]
  },
  {
   "cell_type": "markdown",
   "id": "665ed5f8-0943-45b3-bf7b-637b61c9c502",
   "metadata": {},
   "source": [
    "#Add dimension for CNN\n",
    "x_testcnn = np.expand_dims(input_audio, axis=2)\n",
    "\n",
    "#Check shapes of dataframes\n",
    "print(x_testcnn.shape)"
   ]
  },
  {
   "cell_type": "markdown",
   "id": "b959e92e-0836-453a-b875-3e9100967852",
   "metadata": {},
   "source": [
    "from sklearn.preprocessing import StandardScaler\n",
    "#Normalize the data\n",
    "scaler = StandardScaler()\n",
    "scaler.fit(x_testcnn)\n",
    "x_cnn = scaler.transform(x_testcnn)"
   ]
  },
  {
   "cell_type": "code",
   "execution_count": 42,
   "id": "658588a2-8181-407d-86ca-20fc223e8490",
   "metadata": {},
   "outputs": [],
   "source": [
    "# Predict emotion using the model\n",
    "predictions = model.predict(x)"
   ]
  },
  {
   "cell_type": "code",
   "execution_count": 43,
   "id": "91e6ce01-e037-4f92-bcec-82641ba9381e",
   "metadata": {
    "scrolled": true
   },
   "outputs": [
    {
     "name": "stdout",
     "output_type": "stream",
     "text": [
      "Predicted Emotion: Surprised\n"
     ]
    }
   ],
   "source": [
    "emotions = ['Angry', 'Calm', 'Disgust', 'Fear', 'Happy', 'Neutral', 'Sad', 'Surprised']\n",
    "predicted_emotion = emotions[np.argmax(predictions)]\n",
    "\n",
    "print(\"Predicted Emotion:\", predicted_emotion)"
   ]
  },
  {
   "cell_type": "code",
   "execution_count": 104,
   "id": "9c5dca2d-f1ab-4305-ba90-24c34fbcf480",
   "metadata": {},
   "outputs": [
    {
     "data": {
      "text/plain": [
       "6"
      ]
     },
     "execution_count": 104,
     "metadata": {},
     "output_type": "execute_result"
    }
   ],
   "source": [
    "predictions.argmax()"
   ]
  },
  {
   "cell_type": "code",
   "execution_count": 105,
   "id": "b1c8e029-a575-4aca-aa9e-b8a198919870",
   "metadata": {},
   "outputs": [],
   "source": [
    "df = pd.read_csv('data/final_data.csv',index_col=0)"
   ]
  },
  {
   "cell_type": "code",
   "execution_count": null,
   "id": "9df3c459-8987-4622-ae05-c1c78c4d2162",
   "metadata": {},
   "outputs": [],
   "source": []
  },
  {
   "cell_type": "code",
   "execution_count": 106,
   "id": "ec0bac71-4b22-4417-9b88-e890e6afb82a",
   "metadata": {
    "scrolled": true
   },
   "outputs": [
    {
     "data": {
      "text/html": [
       "<div>\n",
       "<style scoped>\n",
       "    .dataframe tbody tr th:only-of-type {\n",
       "        vertical-align: middle;\n",
       "    }\n",
       "\n",
       "    .dataframe tbody tr th {\n",
       "        vertical-align: top;\n",
       "    }\n",
       "\n",
       "    .dataframe thead th {\n",
       "        text-align: right;\n",
       "    }\n",
       "</style>\n",
       "<table border=\"1\" class=\"dataframe\">\n",
       "  <thead>\n",
       "    <tr style=\"text-align: right;\">\n",
       "      <th></th>\n",
       "      <th>0</th>\n",
       "      <th>1</th>\n",
       "      <th>2</th>\n",
       "      <th>3</th>\n",
       "      <th>4</th>\n",
       "      <th>5</th>\n",
       "      <th>6</th>\n",
       "      <th>7</th>\n",
       "      <th>8</th>\n",
       "      <th>9</th>\n",
       "      <th>...</th>\n",
       "      <th>31</th>\n",
       "      <th>32</th>\n",
       "      <th>33</th>\n",
       "      <th>34</th>\n",
       "      <th>35</th>\n",
       "      <th>36</th>\n",
       "      <th>37</th>\n",
       "      <th>38</th>\n",
       "      <th>39</th>\n",
       "      <th>emotion</th>\n",
       "    </tr>\n",
       "  </thead>\n",
       "  <tbody>\n",
       "    <tr>\n",
       "      <th>0</th>\n",
       "      <td>-587.907898</td>\n",
       "      <td>36.178154</td>\n",
       "      <td>-17.241106</td>\n",
       "      <td>-9.742208</td>\n",
       "      <td>-27.773447</td>\n",
       "      <td>-14.733717</td>\n",
       "      <td>-11.477688</td>\n",
       "      <td>-15.569857</td>\n",
       "      <td>-14.273412</td>\n",
       "      <td>-8.294398</td>\n",
       "      <td>...</td>\n",
       "      <td>3.212901</td>\n",
       "      <td>-1.833511</td>\n",
       "      <td>-2.232787</td>\n",
       "      <td>-4.604078</td>\n",
       "      <td>0.343586</td>\n",
       "      <td>-1.242408</td>\n",
       "      <td>-0.375359</td>\n",
       "      <td>3.929535</td>\n",
       "      <td>10.683189</td>\n",
       "      <td>sad</td>\n",
       "    </tr>\n",
       "    <tr>\n",
       "      <th>1</th>\n",
       "      <td>-509.770386</td>\n",
       "      <td>43.354965</td>\n",
       "      <td>-24.751860</td>\n",
       "      <td>8.810980</td>\n",
       "      <td>-8.211090</td>\n",
       "      <td>-24.347290</td>\n",
       "      <td>-9.572964</td>\n",
       "      <td>-15.536777</td>\n",
       "      <td>-10.063596</td>\n",
       "      <td>4.296363</td>\n",
       "      <td>...</td>\n",
       "      <td>1.836776</td>\n",
       "      <td>-8.388222</td>\n",
       "      <td>-7.970921</td>\n",
       "      <td>-3.082049</td>\n",
       "      <td>3.787357</td>\n",
       "      <td>-0.004449</td>\n",
       "      <td>2.402939</td>\n",
       "      <td>7.500911</td>\n",
       "      <td>7.930544</td>\n",
       "      <td>happy</td>\n",
       "    </tr>\n",
       "    <tr>\n",
       "      <th>2</th>\n",
       "      <td>-608.325256</td>\n",
       "      <td>91.134865</td>\n",
       "      <td>-8.422993</td>\n",
       "      <td>24.703096</td>\n",
       "      <td>1.783348</td>\n",
       "      <td>-23.475849</td>\n",
       "      <td>-8.582272</td>\n",
       "      <td>-3.728264</td>\n",
       "      <td>-11.954734</td>\n",
       "      <td>0.899885</td>\n",
       "      <td>...</td>\n",
       "      <td>5.030650</td>\n",
       "      <td>0.232143</td>\n",
       "      <td>2.143103</td>\n",
       "      <td>-1.058072</td>\n",
       "      <td>-1.230369</td>\n",
       "      <td>-0.428278</td>\n",
       "      <td>6.082251</td>\n",
       "      <td>10.974966</td>\n",
       "      <td>18.634037</td>\n",
       "      <td>calm</td>\n",
       "    </tr>\n",
       "    <tr>\n",
       "      <th>3</th>\n",
       "      <td>-504.740112</td>\n",
       "      <td>55.126217</td>\n",
       "      <td>-20.908773</td>\n",
       "      <td>13.133360</td>\n",
       "      <td>-6.350088</td>\n",
       "      <td>-7.488061</td>\n",
       "      <td>-18.778595</td>\n",
       "      <td>-4.136145</td>\n",
       "      <td>-18.639141</td>\n",
       "      <td>-2.384829</td>\n",
       "      <td>...</td>\n",
       "      <td>2.723440</td>\n",
       "      <td>2.149348</td>\n",
       "      <td>0.681944</td>\n",
       "      <td>-4.007479</td>\n",
       "      <td>-1.396597</td>\n",
       "      <td>-1.036337</td>\n",
       "      <td>5.015131</td>\n",
       "      <td>10.885223</td>\n",
       "      <td>16.854820</td>\n",
       "      <td>happy</td>\n",
       "    </tr>\n",
       "    <tr>\n",
       "      <th>4</th>\n",
       "      <td>-637.394531</td>\n",
       "      <td>43.984432</td>\n",
       "      <td>-17.269554</td>\n",
       "      <td>-3.644861</td>\n",
       "      <td>-15.109137</td>\n",
       "      <td>-18.893116</td>\n",
       "      <td>-2.212192</td>\n",
       "      <td>-20.164730</td>\n",
       "      <td>-10.050422</td>\n",
       "      <td>2.773326</td>\n",
       "      <td>...</td>\n",
       "      <td>15.225397</td>\n",
       "      <td>0.327097</td>\n",
       "      <td>-4.202260</td>\n",
       "      <td>-5.842893</td>\n",
       "      <td>1.823740</td>\n",
       "      <td>-2.011576</td>\n",
       "      <td>3.554226</td>\n",
       "      <td>11.488029</td>\n",
       "      <td>20.341881</td>\n",
       "      <td>calm</td>\n",
       "    </tr>\n",
       "  </tbody>\n",
       "</table>\n",
       "<p>5 rows × 41 columns</p>\n",
       "</div>"
      ],
      "text/plain": [
       "            0          1          2          3          4          5  \\\n",
       "0 -587.907898  36.178154 -17.241106  -9.742208 -27.773447 -14.733717   \n",
       "1 -509.770386  43.354965 -24.751860   8.810980  -8.211090 -24.347290   \n",
       "2 -608.325256  91.134865  -8.422993  24.703096   1.783348 -23.475849   \n",
       "3 -504.740112  55.126217 -20.908773  13.133360  -6.350088  -7.488061   \n",
       "4 -637.394531  43.984432 -17.269554  -3.644861 -15.109137 -18.893116   \n",
       "\n",
       "           6          7          8         9  ...         31        32  \\\n",
       "0 -11.477688 -15.569857 -14.273412 -8.294398  ...   3.212901 -1.833511   \n",
       "1  -9.572964 -15.536777 -10.063596  4.296363  ...   1.836776 -8.388222   \n",
       "2  -8.582272  -3.728264 -11.954734  0.899885  ...   5.030650  0.232143   \n",
       "3 -18.778595  -4.136145 -18.639141 -2.384829  ...   2.723440  2.149348   \n",
       "4  -2.212192 -20.164730 -10.050422  2.773326  ...  15.225397  0.327097   \n",
       "\n",
       "         33        34        35        36        37         38         39  \\\n",
       "0 -2.232787 -4.604078  0.343586 -1.242408 -0.375359   3.929535  10.683189   \n",
       "1 -7.970921 -3.082049  3.787357 -0.004449  2.402939   7.500911   7.930544   \n",
       "2  2.143103 -1.058072 -1.230369 -0.428278  6.082251  10.974966  18.634037   \n",
       "3  0.681944 -4.007479 -1.396597 -1.036337  5.015131  10.885223  16.854820   \n",
       "4 -4.202260 -5.842893  1.823740 -2.011576  3.554226  11.488029  20.341881   \n",
       "\n",
       "   emotion  \n",
       "0      sad  \n",
       "1    happy  \n",
       "2     calm  \n",
       "3    happy  \n",
       "4     calm  \n",
       "\n",
       "[5 rows x 41 columns]"
      ]
     },
     "execution_count": 106,
     "metadata": {},
     "output_type": "execute_result"
    }
   ],
   "source": [
    "df.head()"
   ]
  },
  {
   "cell_type": "code",
   "execution_count": 107,
   "id": "2696b129-4372-4312-8d0f-8ac8cbe709ce",
   "metadata": {},
   "outputs": [
    {
     "data": {
      "text/plain": [
       "angry        776\n",
       "sad          776\n",
       "fear         776\n",
       "happy        776\n",
       "surprised    592\n",
       "disgust      592\n",
       "neutral      588\n",
       "calm         376\n",
       "Name: emotion, dtype: int64"
      ]
     },
     "execution_count": 107,
     "metadata": {},
     "output_type": "execute_result"
    }
   ],
   "source": [
    "df['emotion'].value_counts()"
   ]
  },
  {
   "cell_type": "code",
   "execution_count": 108,
   "id": "90017054-fa3c-49c6-82ce-4f26dd65db68",
   "metadata": {},
   "outputs": [],
   "source": [
    "X = df.iloc[:,:-1]\n",
    "y = df.iloc[:,-1]"
   ]
  },
  {
   "cell_type": "code",
   "execution_count": null,
   "id": "1f6e0c0d-4729-47ec-afa2-aa400bda9cc9",
   "metadata": {
    "scrolled": true
   },
   "outputs": [],
   "source": []
  },
  {
   "cell_type": "code",
   "execution_count": 109,
   "id": "d424ba6b-6443-4371-896f-f07649f35486",
   "metadata": {},
   "outputs": [
    {
     "data": {
      "text/html": [
       "<div>\n",
       "<style scoped>\n",
       "    .dataframe tbody tr th:only-of-type {\n",
       "        vertical-align: middle;\n",
       "    }\n",
       "\n",
       "    .dataframe tbody tr th {\n",
       "        vertical-align: top;\n",
       "    }\n",
       "\n",
       "    .dataframe thead th {\n",
       "        text-align: right;\n",
       "    }\n",
       "</style>\n",
       "<table border=\"1\" class=\"dataframe\">\n",
       "  <thead>\n",
       "    <tr style=\"text-align: right;\">\n",
       "      <th></th>\n",
       "      <th>0</th>\n",
       "      <th>1</th>\n",
       "      <th>2</th>\n",
       "      <th>3</th>\n",
       "      <th>4</th>\n",
       "      <th>5</th>\n",
       "      <th>6</th>\n",
       "      <th>7</th>\n",
       "      <th>8</th>\n",
       "      <th>9</th>\n",
       "      <th>...</th>\n",
       "      <th>30</th>\n",
       "      <th>31</th>\n",
       "      <th>32</th>\n",
       "      <th>33</th>\n",
       "      <th>34</th>\n",
       "      <th>35</th>\n",
       "      <th>36</th>\n",
       "      <th>37</th>\n",
       "      <th>38</th>\n",
       "      <th>39</th>\n",
       "    </tr>\n",
       "  </thead>\n",
       "  <tbody>\n",
       "    <tr>\n",
       "      <th>0</th>\n",
       "      <td>-587.907898</td>\n",
       "      <td>36.178154</td>\n",
       "      <td>-17.241106</td>\n",
       "      <td>-9.742208</td>\n",
       "      <td>-27.773447</td>\n",
       "      <td>-14.733717</td>\n",
       "      <td>-11.477688</td>\n",
       "      <td>-15.569857</td>\n",
       "      <td>-14.273412</td>\n",
       "      <td>-8.294398</td>\n",
       "      <td>...</td>\n",
       "      <td>-2.337345</td>\n",
       "      <td>3.212901</td>\n",
       "      <td>-1.833511</td>\n",
       "      <td>-2.232787</td>\n",
       "      <td>-4.604078</td>\n",
       "      <td>0.343586</td>\n",
       "      <td>-1.242408</td>\n",
       "      <td>-0.375359</td>\n",
       "      <td>3.929535</td>\n",
       "      <td>10.683189</td>\n",
       "    </tr>\n",
       "    <tr>\n",
       "      <th>1</th>\n",
       "      <td>-509.770386</td>\n",
       "      <td>43.354965</td>\n",
       "      <td>-24.751860</td>\n",
       "      <td>8.810980</td>\n",
       "      <td>-8.211090</td>\n",
       "      <td>-24.347290</td>\n",
       "      <td>-9.572964</td>\n",
       "      <td>-15.536777</td>\n",
       "      <td>-10.063596</td>\n",
       "      <td>4.296363</td>\n",
       "      <td>...</td>\n",
       "      <td>1.311170</td>\n",
       "      <td>1.836776</td>\n",
       "      <td>-8.388222</td>\n",
       "      <td>-7.970921</td>\n",
       "      <td>-3.082049</td>\n",
       "      <td>3.787357</td>\n",
       "      <td>-0.004449</td>\n",
       "      <td>2.402939</td>\n",
       "      <td>7.500911</td>\n",
       "      <td>7.930544</td>\n",
       "    </tr>\n",
       "    <tr>\n",
       "      <th>2</th>\n",
       "      <td>-608.325256</td>\n",
       "      <td>91.134865</td>\n",
       "      <td>-8.422993</td>\n",
       "      <td>24.703096</td>\n",
       "      <td>1.783348</td>\n",
       "      <td>-23.475849</td>\n",
       "      <td>-8.582272</td>\n",
       "      <td>-3.728264</td>\n",
       "      <td>-11.954734</td>\n",
       "      <td>0.899885</td>\n",
       "      <td>...</td>\n",
       "      <td>0.012662</td>\n",
       "      <td>5.030650</td>\n",
       "      <td>0.232143</td>\n",
       "      <td>2.143103</td>\n",
       "      <td>-1.058072</td>\n",
       "      <td>-1.230369</td>\n",
       "      <td>-0.428278</td>\n",
       "      <td>6.082251</td>\n",
       "      <td>10.974966</td>\n",
       "      <td>18.634037</td>\n",
       "    </tr>\n",
       "    <tr>\n",
       "      <th>3</th>\n",
       "      <td>-504.740112</td>\n",
       "      <td>55.126217</td>\n",
       "      <td>-20.908773</td>\n",
       "      <td>13.133360</td>\n",
       "      <td>-6.350088</td>\n",
       "      <td>-7.488061</td>\n",
       "      <td>-18.778595</td>\n",
       "      <td>-4.136145</td>\n",
       "      <td>-18.639141</td>\n",
       "      <td>-2.384829</td>\n",
       "      <td>...</td>\n",
       "      <td>0.796294</td>\n",
       "      <td>2.723440</td>\n",
       "      <td>2.149348</td>\n",
       "      <td>0.681944</td>\n",
       "      <td>-4.007479</td>\n",
       "      <td>-1.396597</td>\n",
       "      <td>-1.036337</td>\n",
       "      <td>5.015131</td>\n",
       "      <td>10.885223</td>\n",
       "      <td>16.854820</td>\n",
       "    </tr>\n",
       "    <tr>\n",
       "      <th>4</th>\n",
       "      <td>-637.394531</td>\n",
       "      <td>43.984432</td>\n",
       "      <td>-17.269554</td>\n",
       "      <td>-3.644861</td>\n",
       "      <td>-15.109137</td>\n",
       "      <td>-18.893116</td>\n",
       "      <td>-2.212192</td>\n",
       "      <td>-20.164730</td>\n",
       "      <td>-10.050422</td>\n",
       "      <td>2.773326</td>\n",
       "      <td>...</td>\n",
       "      <td>1.124650</td>\n",
       "      <td>15.225397</td>\n",
       "      <td>0.327097</td>\n",
       "      <td>-4.202260</td>\n",
       "      <td>-5.842893</td>\n",
       "      <td>1.823740</td>\n",
       "      <td>-2.011576</td>\n",
       "      <td>3.554226</td>\n",
       "      <td>11.488029</td>\n",
       "      <td>20.341881</td>\n",
       "    </tr>\n",
       "    <tr>\n",
       "      <th>...</th>\n",
       "      <td>...</td>\n",
       "      <td>...</td>\n",
       "      <td>...</td>\n",
       "      <td>...</td>\n",
       "      <td>...</td>\n",
       "      <td>...</td>\n",
       "      <td>...</td>\n",
       "      <td>...</td>\n",
       "      <td>...</td>\n",
       "      <td>...</td>\n",
       "      <td>...</td>\n",
       "      <td>...</td>\n",
       "      <td>...</td>\n",
       "      <td>...</td>\n",
       "      <td>...</td>\n",
       "      <td>...</td>\n",
       "      <td>...</td>\n",
       "      <td>...</td>\n",
       "      <td>...</td>\n",
       "      <td>...</td>\n",
       "      <td>...</td>\n",
       "    </tr>\n",
       "    <tr>\n",
       "      <th>5247</th>\n",
       "      <td>-433.188965</td>\n",
       "      <td>57.363720</td>\n",
       "      <td>4.908972</td>\n",
       "      <td>13.024331</td>\n",
       "      <td>-3.378766</td>\n",
       "      <td>-0.960908</td>\n",
       "      <td>-15.769565</td>\n",
       "      <td>4.778440</td>\n",
       "      <td>-14.686361</td>\n",
       "      <td>-8.497721</td>\n",
       "      <td>...</td>\n",
       "      <td>1.629190</td>\n",
       "      <td>6.618638</td>\n",
       "      <td>6.445676</td>\n",
       "      <td>-1.611167</td>\n",
       "      <td>-1.723101</td>\n",
       "      <td>1.382978</td>\n",
       "      <td>4.430180</td>\n",
       "      <td>5.747354</td>\n",
       "      <td>-2.161623</td>\n",
       "      <td>3.657368</td>\n",
       "    </tr>\n",
       "    <tr>\n",
       "      <th>5248</th>\n",
       "      <td>-559.998840</td>\n",
       "      <td>101.993713</td>\n",
       "      <td>33.605961</td>\n",
       "      <td>12.951871</td>\n",
       "      <td>21.204279</td>\n",
       "      <td>13.413920</td>\n",
       "      <td>4.372688</td>\n",
       "      <td>-7.319698</td>\n",
       "      <td>-9.703876</td>\n",
       "      <td>1.709915</td>\n",
       "      <td>...</td>\n",
       "      <td>5.289425</td>\n",
       "      <td>16.355019</td>\n",
       "      <td>8.957122</td>\n",
       "      <td>11.558165</td>\n",
       "      <td>4.750055</td>\n",
       "      <td>4.040524</td>\n",
       "      <td>2.418961</td>\n",
       "      <td>6.325723</td>\n",
       "      <td>7.394610</td>\n",
       "      <td>15.063540</td>\n",
       "    </tr>\n",
       "    <tr>\n",
       "      <th>5249</th>\n",
       "      <td>-496.139191</td>\n",
       "      <td>133.011856</td>\n",
       "      <td>45.438461</td>\n",
       "      <td>0.555025</td>\n",
       "      <td>10.132165</td>\n",
       "      <td>11.738538</td>\n",
       "      <td>-6.431499</td>\n",
       "      <td>7.704493</td>\n",
       "      <td>-19.552839</td>\n",
       "      <td>-16.369890</td>\n",
       "      <td>...</td>\n",
       "      <td>-1.042813</td>\n",
       "      <td>0.150162</td>\n",
       "      <td>3.208148</td>\n",
       "      <td>6.247221</td>\n",
       "      <td>12.822376</td>\n",
       "      <td>13.872787</td>\n",
       "      <td>10.784860</td>\n",
       "      <td>12.104943</td>\n",
       "      <td>9.085450</td>\n",
       "      <td>10.249683</td>\n",
       "    </tr>\n",
       "    <tr>\n",
       "      <th>5250</th>\n",
       "      <td>-353.824036</td>\n",
       "      <td>98.714981</td>\n",
       "      <td>-1.281175</td>\n",
       "      <td>8.937387</td>\n",
       "      <td>-3.878722</td>\n",
       "      <td>-3.579316</td>\n",
       "      <td>-3.132740</td>\n",
       "      <td>-20.462267</td>\n",
       "      <td>-5.338827</td>\n",
       "      <td>8.199279</td>\n",
       "      <td>...</td>\n",
       "      <td>-12.223659</td>\n",
       "      <td>-2.974227</td>\n",
       "      <td>-11.691386</td>\n",
       "      <td>-2.699654</td>\n",
       "      <td>3.988725</td>\n",
       "      <td>22.577427</td>\n",
       "      <td>33.460434</td>\n",
       "      <td>37.656155</td>\n",
       "      <td>27.965282</td>\n",
       "      <td>13.931880</td>\n",
       "    </tr>\n",
       "    <tr>\n",
       "      <th>5251</th>\n",
       "      <td>-495.061829</td>\n",
       "      <td>94.790359</td>\n",
       "      <td>25.488504</td>\n",
       "      <td>-16.077322</td>\n",
       "      <td>-3.615371</td>\n",
       "      <td>6.533344</td>\n",
       "      <td>-5.271453</td>\n",
       "      <td>0.514300</td>\n",
       "      <td>-17.379936</td>\n",
       "      <td>1.059698</td>\n",
       "      <td>...</td>\n",
       "      <td>1.496013</td>\n",
       "      <td>6.168132</td>\n",
       "      <td>-3.996353</td>\n",
       "      <td>-4.627251</td>\n",
       "      <td>0.300278</td>\n",
       "      <td>3.364248</td>\n",
       "      <td>-3.688179</td>\n",
       "      <td>-0.618601</td>\n",
       "      <td>-10.424759</td>\n",
       "      <td>0.341845</td>\n",
       "    </tr>\n",
       "  </tbody>\n",
       "</table>\n",
       "<p>5252 rows × 40 columns</p>\n",
       "</div>"
      ],
      "text/plain": [
       "               0           1          2          3          4          5  \\\n",
       "0    -587.907898   36.178154 -17.241106  -9.742208 -27.773447 -14.733717   \n",
       "1    -509.770386   43.354965 -24.751860   8.810980  -8.211090 -24.347290   \n",
       "2    -608.325256   91.134865  -8.422993  24.703096   1.783348 -23.475849   \n",
       "3    -504.740112   55.126217 -20.908773  13.133360  -6.350088  -7.488061   \n",
       "4    -637.394531   43.984432 -17.269554  -3.644861 -15.109137 -18.893116   \n",
       "...          ...         ...        ...        ...        ...        ...   \n",
       "5247 -433.188965   57.363720   4.908972  13.024331  -3.378766  -0.960908   \n",
       "5248 -559.998840  101.993713  33.605961  12.951871  21.204279  13.413920   \n",
       "5249 -496.139191  133.011856  45.438461   0.555025  10.132165  11.738538   \n",
       "5250 -353.824036   98.714981  -1.281175   8.937387  -3.878722  -3.579316   \n",
       "5251 -495.061829   94.790359  25.488504 -16.077322  -3.615371   6.533344   \n",
       "\n",
       "              6          7          8          9  ...         30         31  \\\n",
       "0    -11.477688 -15.569857 -14.273412  -8.294398  ...  -2.337345   3.212901   \n",
       "1     -9.572964 -15.536777 -10.063596   4.296363  ...   1.311170   1.836776   \n",
       "2     -8.582272  -3.728264 -11.954734   0.899885  ...   0.012662   5.030650   \n",
       "3    -18.778595  -4.136145 -18.639141  -2.384829  ...   0.796294   2.723440   \n",
       "4     -2.212192 -20.164730 -10.050422   2.773326  ...   1.124650  15.225397   \n",
       "...         ...        ...        ...        ...  ...        ...        ...   \n",
       "5247 -15.769565   4.778440 -14.686361  -8.497721  ...   1.629190   6.618638   \n",
       "5248   4.372688  -7.319698  -9.703876   1.709915  ...   5.289425  16.355019   \n",
       "5249  -6.431499   7.704493 -19.552839 -16.369890  ...  -1.042813   0.150162   \n",
       "5250  -3.132740 -20.462267  -5.338827   8.199279  ... -12.223659  -2.974227   \n",
       "5251  -5.271453   0.514300 -17.379936   1.059698  ...   1.496013   6.168132   \n",
       "\n",
       "             32         33         34         35         36         37  \\\n",
       "0     -1.833511  -2.232787  -4.604078   0.343586  -1.242408  -0.375359   \n",
       "1     -8.388222  -7.970921  -3.082049   3.787357  -0.004449   2.402939   \n",
       "2      0.232143   2.143103  -1.058072  -1.230369  -0.428278   6.082251   \n",
       "3      2.149348   0.681944  -4.007479  -1.396597  -1.036337   5.015131   \n",
       "4      0.327097  -4.202260  -5.842893   1.823740  -2.011576   3.554226   \n",
       "...         ...        ...        ...        ...        ...        ...   \n",
       "5247   6.445676  -1.611167  -1.723101   1.382978   4.430180   5.747354   \n",
       "5248   8.957122  11.558165   4.750055   4.040524   2.418961   6.325723   \n",
       "5249   3.208148   6.247221  12.822376  13.872787  10.784860  12.104943   \n",
       "5250 -11.691386  -2.699654   3.988725  22.577427  33.460434  37.656155   \n",
       "5251  -3.996353  -4.627251   0.300278   3.364248  -3.688179  -0.618601   \n",
       "\n",
       "             38         39  \n",
       "0      3.929535  10.683189  \n",
       "1      7.500911   7.930544  \n",
       "2     10.974966  18.634037  \n",
       "3     10.885223  16.854820  \n",
       "4     11.488029  20.341881  \n",
       "...         ...        ...  \n",
       "5247  -2.161623   3.657368  \n",
       "5248   7.394610  15.063540  \n",
       "5249   9.085450  10.249683  \n",
       "5250  27.965282  13.931880  \n",
       "5251 -10.424759   0.341845  \n",
       "\n",
       "[5252 rows x 40 columns]"
      ]
     },
     "execution_count": 109,
     "metadata": {},
     "output_type": "execute_result"
    }
   ],
   "source": [
    "X"
   ]
  },
  {
   "cell_type": "code",
   "execution_count": 110,
   "id": "f588fe22-56c2-476e-bb21-d08058e1ac2b",
   "metadata": {},
   "outputs": [
    {
     "data": {
      "text/plain": [
       "0           sad\n",
       "1         happy\n",
       "2          calm\n",
       "3         happy\n",
       "4          calm\n",
       "         ...   \n",
       "5247      angry\n",
       "5248        sad\n",
       "5249    disgust\n",
       "5250    neutral\n",
       "5251       fear\n",
       "Name: emotion, Length: 5252, dtype: object"
      ]
     },
     "execution_count": 110,
     "metadata": {},
     "output_type": "execute_result"
    }
   ],
   "source": [
    "y"
   ]
  },
  {
   "cell_type": "code",
   "execution_count": 111,
   "id": "f4c4776d-822b-40aa-a35b-d05fdc47122a",
   "metadata": {},
   "outputs": [
    {
     "data": {
      "text/plain": [
       "(5252, 40)"
      ]
     },
     "execution_count": 111,
     "metadata": {},
     "output_type": "execute_result"
    }
   ],
   "source": [
    "X.shape"
   ]
  },
  {
   "cell_type": "code",
   "execution_count": 112,
   "id": "ba7e0291-ffc9-4b5e-84db-cf2cec74c3ca",
   "metadata": {},
   "outputs": [
    {
     "data": {
      "text/plain": [
       "(5252,)"
      ]
     },
     "execution_count": 112,
     "metadata": {},
     "output_type": "execute_result"
    }
   ],
   "source": [
    "y.shape"
   ]
  },
  {
   "cell_type": "markdown",
   "id": "4ad7fe73-9227-4a69-b19c-e3fddcef61ad",
   "metadata": {},
   "source": [
    "from sklearn.preprocessing import StandardScaler\n",
    "#Normalize the data\n",
    "scaler = StandardScaler()\n",
    "X_scalled = scaler.fit_transform(X)"
   ]
  },
  {
   "cell_type": "code",
   "execution_count": 113,
   "id": "219d5b95-a335-41b8-9d8b-b5bffe92cbd1",
   "metadata": {},
   "outputs": [],
   "source": [
    "x_cnn = np.expand_dims(X, axis=2)"
   ]
  },
  {
   "cell_type": "code",
   "execution_count": 114,
   "id": "5bdfe7d3-51e7-447c-a530-34a944311b0d",
   "metadata": {},
   "outputs": [
    {
     "data": {
      "text/plain": [
       "(5252, 40, 1)"
      ]
     },
     "execution_count": 114,
     "metadata": {},
     "output_type": "execute_result"
    }
   ],
   "source": [
    "x_cnn.shape"
   ]
  },
  {
   "cell_type": "code",
   "execution_count": 115,
   "id": "6e2b3a06-8785-41df-b3b9-ed8a1847a79f",
   "metadata": {},
   "outputs": [],
   "source": [
    "# Load the saved model\n",
    "def load_model(model_json_path, model_weights_path):\n",
    "    json_file = open(model_json_path, 'r')\n",
    "    loaded_model_json = json_file.read()\n",
    "    json_file.close()\n",
    "    loaded_model = model_from_json(loaded_model_json)\n",
    "    loaded_model.load_weights(model_weights_path)\n",
    "    print(\"Loaded model from disk\")\n",
    "    return loaded_model"
   ]
  },
  {
   "cell_type": "code",
   "execution_count": 116,
   "id": "21ccb5c1-d9ed-46fe-a497-61211fab64f4",
   "metadata": {},
   "outputs": [],
   "source": [
    "# Define paths\n",
    "model_json_path = 'models/new_model.json'\n",
    "model_weights_path = 'models/new_model.h5'"
   ]
  },
  {
   "cell_type": "code",
   "execution_count": 117,
   "id": "8061b728-08ec-4fca-8223-03292302aa86",
   "metadata": {},
   "outputs": [
    {
     "name": "stdout",
     "output_type": "stream",
     "text": [
      "Loaded model from disk\n"
     ]
    }
   ],
   "source": [
    "model = load_model(model_json_path,model_weights_path)"
   ]
  },
  {
   "cell_type": "code",
   "execution_count": 118,
   "id": "e588c0c4-3f69-4372-9d33-e9bce5857263",
   "metadata": {},
   "outputs": [
    {
     "data": {
      "text/plain": [
       "array([6, 4, 1, ..., 2, 5, 3], dtype=int64)"
      ]
     },
     "execution_count": 118,
     "metadata": {},
     "output_type": "execute_result"
    }
   ],
   "source": [
    "y_test_predictions = np.argmax(model.predict(x_cnn), axis=-1)\n",
    "y_test_predictions"
   ]
  },
  {
   "cell_type": "code",
   "execution_count": 119,
   "id": "61355eef-6788-4639-bc8d-9ada688592ab",
   "metadata": {},
   "outputs": [],
   "source": [
    "emotions = {0: 'angry',\n",
    " 1: 'calm',\n",
    " 2: 'disgust',\n",
    " 3: 'fear',\n",
    " 4: 'happy',\n",
    " 5: 'neutral',\n",
    " 6: 'sad',\n",
    " 7: 'surprised'}"
   ]
  },
  {
   "cell_type": "code",
   "execution_count": 120,
   "id": "40254743-986b-4161-847c-338b7fdec004",
   "metadata": {},
   "outputs": [
    {
     "data": {
      "text/plain": [
       "array(['sad', 'happy', 'calm', ..., 'disgust', 'neutral', 'fear'],\n",
       "      dtype='<U9')"
      ]
     },
     "execution_count": 120,
     "metadata": {},
     "output_type": "execute_result"
    }
   ],
   "source": [
    "y_test_predictions_labels =[]\n",
    "\n",
    "#Go through each prediction and append to new list\n",
    "for e in range(len(y_test_predictions)):\n",
    "    y_test_predictions_labels.append(emotions[y_test_predictions[e]])\n",
    "    \n",
    "#Build array of predictions\n",
    "y_test_predictions_labels = np.array(y_test_predictions_labels)\n",
    "y_test_predictions_labels"
   ]
  },
  {
   "cell_type": "code",
   "execution_count": 121,
   "id": "9796cf63-124b-4358-8e3f-145ef894afbc",
   "metadata": {},
   "outputs": [],
   "source": [
    "# Calculate pre-training accuracy \n",
    "from sklearn.metrics import accuracy_score"
   ]
  },
  {
   "cell_type": "code",
   "execution_count": 122,
   "id": "41c95af8-ec5e-4ee7-8755-c80dcf5d181c",
   "metadata": {},
   "outputs": [
    {
     "data": {
      "text/plain": [
       "0.9754379284082254"
      ]
     },
     "execution_count": 122,
     "metadata": {},
     "output_type": "execute_result"
    }
   ],
   "source": [
    "accuracy_score(y,y_test_predictions_labels)"
   ]
  },
  {
   "cell_type": "markdown",
   "id": "7d6412cd-4ecf-44a2-a577-cea3a963ddea",
   "metadata": {},
   "source": [
    "# Start Anew"
   ]
  },
  {
   "cell_type": "code",
   "execution_count": 103,
   "id": "40ff0dfb-0e49-4dfc-9bf9-b112d55f8779",
   "metadata": {},
   "outputs": [],
   "source": [
    "#sample feature\n",
    "#librosa.core.load(path, sr=22050, mono=True, offset=0.0, duration=None, dtype=<class 'numpy.float32'>, res_type='kaiser_best')\n",
    "res_type_s = 'kaiser_best'\n",
    "duration_s = None\n",
    "sample_rate_s = 22050\n",
    "offset_s = 0.5\n",
    "\n",
    "#Mfcc\n",
    "#librosa.feature.mfcc(y=None, sr=22050, S=None, n_mfcc=20, dct_type=2, norm='ortho', lifter=0, **kwargs)\n",
    "mfcc_sample_rate = 22050\n",
    "n_mfcc = 40\n",
    "axis_mfcc = 1"
   ]
  },
  {
   "cell_type": "code",
   "execution_count": 250,
   "id": "683e25e2-4d63-4263-9058-d9431748436f",
   "metadata": {},
   "outputs": [],
   "source": [
    "audio_file = pd.DataFrame(columns=['feature'])\n",
    "filename='test/angry.wav'\n",
    "X, sample_rate = librosa.load(filename, \n",
    "                              res_type = res_type_s,\n",
    "                              duration = duration_s,\n",
    "                              sr = sample_rate_s,\n",
    "                              offset = offset_s)\n",
    "sample_rate = np.array(sample_rate)\n",
    "\n",
    "#Get MFCCs from each file\n",
    "mfccs = librosa.feature.mfcc(y=X, sr = mfcc_sample_rate,  n_mfcc = n_mfcc)\n",
    "\n",
    "#Calculate mean of MFCCs\n",
    "mfccs_mean = np.mean(    mfccs, \n",
    "                         axis = axis_mfcc)\n",
    "feature = mfccs_mean\n",
    "\n",
    "#Add MFCCs feature results to list\n",
    "audio_file.loc[0] = [feature]"
   ]
  },
  {
   "cell_type": "code",
   "execution_count": null,
   "id": "66a54e27-7d09-4e88-b30d-86d7ac9f8b66",
   "metadata": {},
   "outputs": [],
   "source": []
  },
  {
   "cell_type": "code",
   "execution_count": 251,
   "id": "4aa6db69-beab-43f4-bb7c-3234da363779",
   "metadata": {},
   "outputs": [
    {
     "data": {
      "text/html": [
       "<div>\n",
       "<style scoped>\n",
       "    .dataframe tbody tr th:only-of-type {\n",
       "        vertical-align: middle;\n",
       "    }\n",
       "\n",
       "    .dataframe tbody tr th {\n",
       "        vertical-align: top;\n",
       "    }\n",
       "\n",
       "    .dataframe thead th {\n",
       "        text-align: right;\n",
       "    }\n",
       "</style>\n",
       "<table border=\"1\" class=\"dataframe\">\n",
       "  <thead>\n",
       "    <tr style=\"text-align: right;\">\n",
       "      <th></th>\n",
       "      <th>feature</th>\n",
       "    </tr>\n",
       "  </thead>\n",
       "  <tbody>\n",
       "    <tr>\n",
       "      <th>0</th>\n",
       "      <td>[-500.40332, 46.23608, -6.636011, 9.950843, -4...</td>\n",
       "    </tr>\n",
       "  </tbody>\n",
       "</table>\n",
       "</div>"
      ],
      "text/plain": [
       "                                             feature\n",
       "0  [-500.40332, 46.23608, -6.636011, 9.950843, -4..."
      ]
     },
     "execution_count": 251,
     "metadata": {},
     "output_type": "execute_result"
    }
   ],
   "source": [
    "audio_file"
   ]
  },
  {
   "cell_type": "code",
   "execution_count": 252,
   "id": "e04dde21-3c38-4909-a1f8-d9c19d219665",
   "metadata": {},
   "outputs": [],
   "source": [
    "audio_df = pd.DataFrame(audio_file['feature'].values.tolist())"
   ]
  },
  {
   "cell_type": "code",
   "execution_count": 253,
   "id": "11cf3750-5a8d-468a-b66f-8db51d9232c7",
   "metadata": {},
   "outputs": [
    {
     "data": {
      "text/html": [
       "<div>\n",
       "<style scoped>\n",
       "    .dataframe tbody tr th:only-of-type {\n",
       "        vertical-align: middle;\n",
       "    }\n",
       "\n",
       "    .dataframe tbody tr th {\n",
       "        vertical-align: top;\n",
       "    }\n",
       "\n",
       "    .dataframe thead th {\n",
       "        text-align: right;\n",
       "    }\n",
       "</style>\n",
       "<table border=\"1\" class=\"dataframe\">\n",
       "  <thead>\n",
       "    <tr style=\"text-align: right;\">\n",
       "      <th></th>\n",
       "      <th>0</th>\n",
       "      <th>1</th>\n",
       "      <th>2</th>\n",
       "      <th>3</th>\n",
       "      <th>4</th>\n",
       "      <th>5</th>\n",
       "      <th>6</th>\n",
       "      <th>7</th>\n",
       "      <th>8</th>\n",
       "      <th>9</th>\n",
       "      <th>...</th>\n",
       "      <th>30</th>\n",
       "      <th>31</th>\n",
       "      <th>32</th>\n",
       "      <th>33</th>\n",
       "      <th>34</th>\n",
       "      <th>35</th>\n",
       "      <th>36</th>\n",
       "      <th>37</th>\n",
       "      <th>38</th>\n",
       "      <th>39</th>\n",
       "    </tr>\n",
       "  </thead>\n",
       "  <tbody>\n",
       "    <tr>\n",
       "      <th>0</th>\n",
       "      <td>-500.40332</td>\n",
       "      <td>46.23608</td>\n",
       "      <td>-6.636011</td>\n",
       "      <td>9.950843</td>\n",
       "      <td>-4.364445</td>\n",
       "      <td>-3.781631</td>\n",
       "      <td>-8.475327</td>\n",
       "      <td>-9.241603</td>\n",
       "      <td>-15.583539</td>\n",
       "      <td>-6.968016</td>\n",
       "      <td>...</td>\n",
       "      <td>-1.961819</td>\n",
       "      <td>-2.181544</td>\n",
       "      <td>-2.941498</td>\n",
       "      <td>-2.029786</td>\n",
       "      <td>-2.84566</td>\n",
       "      <td>1.798386</td>\n",
       "      <td>-0.25062</td>\n",
       "      <td>3.165764</td>\n",
       "      <td>-0.600444</td>\n",
       "      <td>1.173639</td>\n",
       "    </tr>\n",
       "  </tbody>\n",
       "</table>\n",
       "<p>1 rows × 40 columns</p>\n",
       "</div>"
      ],
      "text/plain": [
       "          0         1         2         3         4         5         6   \\\n",
       "0 -500.40332  46.23608 -6.636011  9.950843 -4.364445 -3.781631 -8.475327   \n",
       "\n",
       "         7          8         9   ...        30        31        32        33  \\\n",
       "0 -9.241603 -15.583539 -6.968016  ... -1.961819 -2.181544 -2.941498 -2.029786   \n",
       "\n",
       "        34        35       36        37        38        39  \n",
       "0 -2.84566  1.798386 -0.25062  3.165764 -0.600444  1.173639  \n",
       "\n",
       "[1 rows x 40 columns]"
      ]
     },
     "execution_count": 253,
     "metadata": {},
     "output_type": "execute_result"
    }
   ],
   "source": [
    "audio_df"
   ]
  },
  {
   "cell_type": "code",
   "execution_count": 254,
   "id": "66346053-8976-4493-a414-d86c0e3856cb",
   "metadata": {
    "scrolled": true
   },
   "outputs": [
    {
     "data": {
      "text/plain": [
       "(1, 40)"
      ]
     },
     "execution_count": 254,
     "metadata": {},
     "output_type": "execute_result"
    }
   ],
   "source": [
    "#Analyze new dataframe shape\n",
    "audio_df.shape"
   ]
  },
  {
   "cell_type": "code",
   "execution_count": 180,
   "id": "80d38b58-b9ef-4c71-b182-e6f45303c48e",
   "metadata": {},
   "outputs": [],
   "source": [
    "audio_df = X"
   ]
  },
  {
   "cell_type": "code",
   "execution_count": 181,
   "id": "2e898380-5b7d-487a-85ae-7a836557cdbd",
   "metadata": {},
   "outputs": [],
   "source": [
    "from sklearn.preprocessing import StandardScaler\n",
    "#Normalize the data\n",
    "scaler = StandardScaler()\n",
    "X_test = scaler.fit_transform(audio_df)"
   ]
  },
  {
   "cell_type": "code",
   "execution_count": 182,
   "id": "fc50d0dd-ba43-491b-9557-cf428468eec3",
   "metadata": {},
   "outputs": [
    {
     "name": "stdout",
     "output_type": "stream",
     "text": [
      "(5252, 40, 1)\n"
     ]
    }
   ],
   "source": [
    "x_cnn = np.expand_dims(X_test, axis=2)\n",
    "\n",
    "#Check shapes of dataframes\n",
    "print(x_cnn.shape)"
   ]
  },
  {
   "cell_type": "raw",
   "id": "cb848bd1-b4af-44a2-a54c-98dda0777fb0",
   "metadata": {},
   "source": []
  },
  {
   "cell_type": "raw",
   "id": "edda2762-638f-406c-a6c9-f2080c182467",
   "metadata": {},
   "source": []
  },
  {
   "cell_type": "code",
   "execution_count": 183,
   "id": "7ca41169-ff47-4f51-84fb-a908999a0a8a",
   "metadata": {},
   "outputs": [],
   "source": [
    "# Load the saved model\n",
    "def load_model(model_json_path, model_weights_path):\n",
    "    json_file = open(model_json_path, 'r')\n",
    "    loaded_model_json = json_file.read()\n",
    "    json_file.close()\n",
    "    loaded_model = model_from_json(loaded_model_json)\n",
    "    loaded_model.load_weights(model_weights_path)\n",
    "    print(\"Loaded model from disk\")\n",
    "    return loaded_model"
   ]
  },
  {
   "cell_type": "code",
   "execution_count": 184,
   "id": "b98ed2a9-9446-4bd5-88e0-36e55bee3eb4",
   "metadata": {},
   "outputs": [
    {
     "name": "stdout",
     "output_type": "stream",
     "text": [
      "Loaded model from disk\n"
     ]
    }
   ],
   "source": [
    "# Define paths\n",
    "model_json_path = 'models/new_model.json'\n",
    "model_weights_path = 'models/new_model.h5'\n",
    "\n",
    "model = load_model(model_json_path, model_weights_path)"
   ]
  },
  {
   "cell_type": "code",
   "execution_count": 185,
   "id": "12b29a70-3bfb-41b3-a7ed-f1b3d895e678",
   "metadata": {},
   "outputs": [
    {
     "name": "stdout",
     "output_type": "stream",
     "text": [
      "Model: \"sequential_8\"\n",
      "_________________________________________________________________\n",
      "Layer (type)                 Output Shape              Param #   \n",
      "=================================================================\n",
      "conv1d_24 (Conv1D)           (None, 40, 16)            96        \n",
      "_________________________________________________________________\n",
      "conv1d_25 (Conv1D)           (None, 40, 32)            2592      \n",
      "_________________________________________________________________\n",
      "conv1d_26 (Conv1D)           (None, 40, 64)            10304     \n",
      "_________________________________________________________________\n",
      "conv1d_27 (Conv1D)           (None, 40, 128)           41088     \n",
      "_________________________________________________________________\n",
      "dropout_12 (Dropout)         (None, 40, 128)           0         \n",
      "_________________________________________________________________\n",
      "flatten_6 (Flatten)          (None, 5120)              0         \n",
      "_________________________________________________________________\n",
      "dense_18 (Dense)             (None, 128)               655488    \n",
      "_________________________________________________________________\n",
      "dropout_13 (Dropout)         (None, 128)               0         \n",
      "_________________________________________________________________\n",
      "dense_19 (Dense)             (None, 64)                8256      \n",
      "_________________________________________________________________\n",
      "dense_20 (Dense)             (None, 8)                 520       \n",
      "=================================================================\n",
      "Total params: 718,344\n",
      "Trainable params: 718,344\n",
      "Non-trainable params: 0\n",
      "_________________________________________________________________\n"
     ]
    }
   ],
   "source": [
    "model.summary()"
   ]
  },
  {
   "cell_type": "code",
   "execution_count": 186,
   "id": "f9a12509-3d33-4def-94b6-115e400f721a",
   "metadata": {},
   "outputs": [],
   "source": [
    "emotions = {0: 'angry',\n",
    " 1: 'Calm',\n",
    " 2: 'Disgust',\n",
    " 3: 'Fear',\n",
    " 4: 'Happy',\n",
    " 5: 'Neutral',\n",
    " 6: 'Sad',\n",
    " 7: 'Surprised'}"
   ]
  },
  {
   "cell_type": "code",
   "execution_count": null,
   "id": "0f237302-c943-4557-a059-a57091ab5726",
   "metadata": {},
   "outputs": [],
   "source": []
  },
  {
   "cell_type": "code",
   "execution_count": 187,
   "id": "0c651ac8-3bd0-4b78-aa9a-d1d300a7b9e5",
   "metadata": {
    "scrolled": true
   },
   "outputs": [
    {
     "data": {
      "text/plain": [
       "'Sad'"
      ]
     },
     "execution_count": 187,
     "metadata": {},
     "output_type": "execute_result"
    }
   ],
   "source": [
    "y_test_predictions = (model.predict(x_cnn) > 0.5).astype(\"int32\")\n",
    "emotions[y_test_predictions.argmax()]"
   ]
  },
  {
   "cell_type": "code",
   "execution_count": 188,
   "id": "2e419a2c-ae76-4ae5-b349-c17a55e4faa3",
   "metadata": {},
   "outputs": [
    {
     "data": {
      "text/plain": [
       "array([6, 4, 1, ..., 2, 5, 3], dtype=int64)"
      ]
     },
     "execution_count": 188,
     "metadata": {},
     "output_type": "execute_result"
    }
   ],
   "source": [
    "y_test_predictions = np.argmax(model.predict(x_cnn), axis=-1)\n",
    "y_test_predictions"
   ]
  },
  {
   "cell_type": "code",
   "execution_count": 189,
   "id": "8e9d4c9c-ae0a-488e-a164-e5c164338d2d",
   "metadata": {},
   "outputs": [
    {
     "data": {
      "text/plain": [
       "array(['Sad', 'Happy', 'Calm', ..., 'Disgust', 'Neutral', 'Fear'],\n",
       "      dtype='<U9')"
      ]
     },
     "execution_count": 189,
     "metadata": {},
     "output_type": "execute_result"
    }
   ],
   "source": [
    "y_test_predictions_labels =[]\n",
    "\n",
    "#Go through each prediction and append to new list\n",
    "for e in range(len(y_test_predictions)):\n",
    "    y_test_predictions_labels.append(emotions[y_test_predictions[e]])\n",
    "    \n",
    "#Build array of predictions\n",
    "y_test_predictions_labels = np.array(y_test_predictions_labels)\n",
    "y_test_predictions_labels"
   ]
  },
  {
   "cell_type": "code",
   "execution_count": 190,
   "id": "fe4ff241-c3bd-4426-880e-e519e95dc68b",
   "metadata": {},
   "outputs": [
    {
     "data": {
      "text/plain": [
       "0.14642041127189642"
      ]
     },
     "execution_count": 190,
     "metadata": {},
     "output_type": "execute_result"
    }
   ],
   "source": [
    "# Calculate pre-training accuracy \n",
    "from sklearn.metrics import accuracy_score\n",
    "accuracy_score(y,y_test_predictions_labels)"
   ]
  },
  {
   "cell_type": "code",
   "execution_count": null,
   "id": "e3a2836c-28db-462a-9755-c5a929d4b91e",
   "metadata": {},
   "outputs": [],
   "source": []
  }
 ],
 "metadata": {
  "kernelspec": {
   "display_name": "Python 3 (ipykernel)",
   "language": "python",
   "name": "python3"
  },
  "language_info": {
   "codemirror_mode": {
    "name": "ipython",
    "version": 3
   },
   "file_extension": ".py",
   "mimetype": "text/x-python",
   "name": "python",
   "nbconvert_exporter": "python",
   "pygments_lexer": "ipython3",
   "version": "3.9.18"
  }
 },
 "nbformat": 4,
 "nbformat_minor": 5
}
